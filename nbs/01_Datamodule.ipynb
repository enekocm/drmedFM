{
 "cells": [
  {
   "cell_type": "code",
   "execution_count": null,
   "id": "0e23965b-bbd3-4c4f-b4bf-c84f23793c05",
   "metadata": {},
   "outputs": [],
   "source": [
    "#| default_exp Datamodule"
   ]
  },
  {
   "cell_type": "markdown",
   "id": "a491d969-da1b-4c2f-b382-11a91ced25e3",
   "metadata": {},
   "source": [
    "# Datamodule\n",
    "\n",
    "> A datamodule is a Pytorch Lightning class designed to handle data loading and preparation."
   ]
  },
  {
   "cell_type": "markdown",
   "id": "9334e9a2-258f-4cfb-93ef-f63935a4e351",
   "metadata": {},
   "source": [
    "The class sets up data loaders for training, validation, and testing phases, supporting different datasets. It reads file lists from CSV files, splits the data into train/val/test sets, and creates appropriate DataLoader objects. The module is flexible and therefore adaptable to various experimental setups."
   ]
  },
  {
   "cell_type": "code",
   "execution_count": null,
   "id": "fa34d3f7-667d-4ab4-b350-541d9c1602c7",
   "metadata": {},
   "outputs": [],
   "source": [
    "#| hide\n",
    "from nbdev.showdoc import *"
   ]
  },
  {
   "cell_type": "code",
   "execution_count": null,
   "id": "7d26ad8c-2acc-4be7-bef2-ab10e29704ea",
   "metadata": {},
   "outputs": [],
   "source": [
    "#| export\n",
    "def hellosum(a:int \n",
    "             , b:int): \n",
    "    \"A sum function\"\n",
    "    yes = a + b\n",
    "    return yes\n"
   ]
  },
  {
   "cell_type": "code",
   "execution_count": null,
   "id": "dddd244c-b1e8-43a4-8cd7-dedfcee20a88",
   "metadata": {},
   "outputs": [
    {
     "data": {
      "text/plain": [
       "5"
      ]
     },
     "execution_count": null,
     "metadata": {},
     "output_type": "execute_result"
    }
   ],
   "source": [
    "hellosum(1, 4)"
   ]
  },
  {
   "cell_type": "code",
   "execution_count": null,
   "id": "08be429a-87b2-4fef-87c4-473fb6e40afb",
   "metadata": {},
   "outputs": [],
   "source": [
    "#| export\n",
    "def hellosum2(a, b): \n",
    "    return a + b"
   ]
  },
  {
   "cell_type": "code",
   "execution_count": null,
   "id": "b410a4fc-372b-47d7-853e-1baf805e7ba1",
   "metadata": {},
   "outputs": [
    {
     "data": {
      "text/plain": [
       "5"
      ]
     },
     "execution_count": null,
     "metadata": {},
     "output_type": "execute_result"
    }
   ],
   "source": [
    "hellosum2(1, 4)"
   ]
  },
  {
   "cell_type": "code",
   "execution_count": null,
   "id": "e5ab61ce-595d-403e-8f05-6f21f108c697",
   "metadata": {},
   "outputs": [],
   "source": [
    "#| hide\n",
    "import nbdev; nbdev.nbdev_export()"
   ]
  },
  {
   "cell_type": "code",
   "execution_count": null,
   "id": "3a298cbf-4394-41bf-8f63-42e551454a78",
   "metadata": {},
   "outputs": [],
   "source": []
  }
 ],
 "metadata": {
  "kernelspec": {
   "display_name": "python3",
   "language": "python",
   "name": "python3"
  }
 },
 "nbformat": 4,
 "nbformat_minor": 5
}
